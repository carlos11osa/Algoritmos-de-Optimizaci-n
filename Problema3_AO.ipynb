{
  "nbformat": 4,
  "nbformat_minor": 0,
  "metadata": {
    "colab": {
      "name": "Problema3_AO",
      "provenance": [],
      "collapsed_sections": [],
      "include_colab_link": true
    },
    "kernelspec": {
      "name": "python3",
      "display_name": "Python 3"
    }
  },
  "cells": [
    {
      "cell_type": "markdown",
      "metadata": {
        "id": "view-in-github",
        "colab_type": "text"
      },
      "source": [
        "<a href=\"https://colab.research.google.com/github/carlos11osa/Algoritmos-de-Optimizaci-n/blob/main/Problema3_AO.ipynb\" target=\"_parent\"><img src=\"https://colab.research.google.com/assets/colab-badge.svg\" alt=\"Open In Colab\"/></a>"
      ]
    },
    {
      "cell_type": "markdown",
      "metadata": {
        "id": "hVbXYX-RfPWh"
      },
      "source": [
        "# Algoritmos de optimización - Seminario<br>\n",
        "Nombre y Apellidos: Carlos Osa Patón  <br>\n",
        "Url: https://colab.research.google.com/drive/1_OsevS-TgE7yyFn6Hn4kc2KKlJvIwsaF?usp=sharing<br>\n",
        "\n",
        "Problema:\n",
        ">3. Combinar cifras y operaciones\n",
        "\n",
        "Descripción del problema:\n",
        "\n",
        "\n",
        "\n",
        "(*) La respuesta es obligatoria\n",
        "\n",
        "\n",
        "\n",
        "\n",
        "\n",
        "                                        "
      ]
    },
    {
      "cell_type": "code",
      "metadata": {
        "id": "AiskKkzZfy4e"
      },
      "source": [
        "# Disponemos de las 9 cifras del 1 al 9 (excluimos el cero) y de los 4 signos básicos de las\n",
        "# operaciones fundamentales: suma(+), resta(-), multiplicación(*) y división(/)\n",
        "\n",
        "# Debemos combinarlos alternativamente sin repetir ninguno de ellos para obtener una cantidad\n",
        "# dada. Un ejemplo sería para obtener el 4:"
      ],
      "execution_count": null,
      "outputs": []
    },
    {
      "cell_type": "markdown",
      "metadata": {
        "id": "3_-exlrTgLd-"
      },
      "source": [
        "(*)¿Cuantas posibilidades hay sin tener en cuenta las restricciones?<br>\n",
        "\n",
        "\n",
        "\n",
        "¿Cuantas posibilidades hay teniendo en cuenta todas las restricciones.\n",
        "\n",
        "\n"
      ]
    },
    {
      "cell_type": "markdown",
      "metadata": {
        "id": "WfCUqJyKhPcw"
      },
      "source": [
        "Respuesta"
      ]
    },
    {
      "cell_type": "code",
      "metadata": {
        "id": "iq6Fe32MgpDX"
      },
      "source": [
        "# SIN RESTRICCIONES\n",
        "# Si no tuviésemos en cuenta las restricciones podríamos encontrarnos varios escenarios posibles con distintos números de posibilidades.\n",
        "# por ejemplo, si se pudiesen repetir los números, manteniendo solo las 4 operaciones básicas, podríamos llegar hasta el número 89 (9*9/1+9-1=89)\n",
        "# de esta misma manera podríamos llegar hasta -79 (1/1+1-9*9=-79), el número de posibibles combinaciones sería 1417176, obtenido a partir de \n",
        "# hacer combinatoria, (9 elevado a 5) donde importa el orden y existe repetición, obteniendo 59049 y multiplicándolo por las posibles combinaciones de\n",
        "# las 4 operaciones básicas, obtenidas al hacer 4!/(4-4)! donde importa el orden pero sin repetición, dando 24 combinaciones.\n",
        "# Si por el contrario, mantenemos la no repetición de los números pero repetimos operaciones podríamos llegar a un máximo de 15120 (9*8*7*6*5=15120) \n",
        "# y un mínimo de -3023 (1-9*8*7*6=-3023). Existirían 3870720 posibilidades que vendrían de la multiplicación de las posibles combinaciones de los \n",
        "# 9 números donde importa el orden y sin repetir (9!/(9-5)!=15120) con las posibles combinaciones de las 4 operaciones básicas donde importa el orden\n",
        "# pero sí se podría repetir (4 elevado a 4, daría 256 posibilidades).\n",
        "# Finalmente, si pudiésemos combinar y repetir todas las operaciones y números sin NINGUNA restricción tendríamos un abanico de posibilidades de +- infinito.\n",
        "\n",
        "# CON RESTRICCIONES\n",
        "# Dejando de lado los posibles números decimales que pudiésemos obtener, teniendo en cuenta las restriciones del problema, podríamos obtener\n",
        "# como máximo el número 77 (7/1-2+8*9=77) y como mínimo el número -69 (1+4/2-8*9=-69). En este caso, tendríamos un número de posibibles combinaciones\n",
        "# de 362880, obtenido a partir de las posibles combinaciones sin repetición de las 4 operaciones básicas (24), y de las posibles combinaciones\n",
        "# en grupos de 5 números de los 9 números permitidos (15120)."
      ],
      "execution_count": 1,
      "outputs": []
    },
    {
      "cell_type": "markdown",
      "metadata": {
        "id": "dzynfVJahHoY"
      },
      "source": [
        "Modelo para el espacio de soluciones<br>\n",
        "(*) ¿Cual es la estructura de datos que mejor se adapta al problema? Argumentalo.(Es posible que hayas elegido una al principio y veas la necesidad de cambiar, arguentalo)\n"
      ]
    },
    {
      "cell_type": "markdown",
      "metadata": {
        "id": "xFIJrOwKi2Ti"
      },
      "source": [
        "Respuesta"
      ]
    },
    {
      "cell_type": "code",
      "metadata": {
        "id": "38c-7-ejhJmA"
      },
      "source": [
        "# En este problema nos encontramos con una estructura de datos de búsqueda. En esta tenemos una función formada por los elementos\n",
        "# de dos arrays las cuales son formadas de forma iterativa desde dos conjuntos de posibles combinaciones (números del 1 al 9 y las 4 operaciones básicas)"
      ],
      "execution_count": null,
      "outputs": []
    },
    {
      "cell_type": "markdown",
      "metadata": {
        "id": "7Z9U2W7bi-XS"
      },
      "source": [
        "Según el modelo para el espacio de soluciones<br>\n",
        "(*)¿Cual es la función objetivo?\n",
        "\n",
        "(*)¿Es un problema de maximización o minimización?"
      ]
    },
    {
      "cell_type": "markdown",
      "metadata": {
        "id": "hBalWLM7j1_d"
      },
      "source": [
        "Respuesta"
      ]
    },
    {
      "cell_type": "code",
      "metadata": {
        "id": "pDA-rg3Gj5Lz"
      },
      "source": [
        "# Dada la naturaleza de este modelo, al tratarse de un problema de búsqueda esta pregunta no tendría mucho sentido, pues no se busca\n",
        "# maximizar o minimizar una función objetivo como sí pudiera ser en un problema de optimización, sino que pretende encontrar un valor introducido\n",
        "# en nuestra amplia gama de posibilidades."
      ],
      "execution_count": null,
      "outputs": []
    },
    {
      "cell_type": "markdown",
      "metadata": {
        "id": "rlnTYgY1j6I2"
      },
      "source": [
        "Diseña un algoritmo para resolver el problema por fuerza bruta"
      ]
    },
    {
      "cell_type": "markdown",
      "metadata": {
        "id": "70rDgxYXkC8r"
      },
      "source": [
        "Respuesta"
      ]
    },
    {
      "cell_type": "code",
      "metadata": {
        "id": "CJb5sQ0qkENy",
        "colab": {
          "base_uri": "https://localhost:8080/",
          "height": 35
        },
        "outputId": "3ad7f70e-6877-4e36-906d-7cfac407729a"
      },
      "source": [
        "import math\n",
        "from itertools import permutations\n",
        "def problema3(num):\n",
        "    posiblesoperaciones=permutations(['+','-','/','*'],4)\n",
        "    nums=[1,2,3,4,5,6,7,8,9]\n",
        "    permutaciones=list(permutations(nums,5))\n",
        "    permutaciones1=[]\n",
        "    operacion1=[]\n",
        "\n",
        "    for n in posiblesoperaciones:\n",
        "        operacion1.append(list(n))\n",
        "    for k in permutaciones:\n",
        "        permutaciones1.append(list(k))\n",
        "    for i in permutaciones1:\n",
        "        for o in operacion1:\n",
        "            formula=eval(f'{i[0]}{o[0]}{i[1]}{o[1]}{i[2]}{o[2]}{i[3]}{o[3]}{i[4]}')\n",
        "            if formula==num:\n",
        "                return('La operación a realizar es:'+str(i[0])+o[0]+str(i[1])+o[1]+str(i[2])+o[2]+str(i[3])+o[3]+str(i[4])+'='+str(formula))\n",
        "\n",
        "problema3(-69)"
      ],
      "execution_count": 3,
      "outputs": [
        {
          "output_type": "execute_result",
          "data": {
            "application/vnd.google.colaboratory.intrinsic+json": {
              "type": "string"
            },
            "text/plain": [
              "'La operación a realizar es:1+4/2-8*9=-69.0'"
            ]
          },
          "metadata": {},
          "execution_count": 3
        }
      ]
    },
    {
      "cell_type": "markdown",
      "metadata": {
        "id": "tgrnsC2nkFa8"
      },
      "source": [
        "Calcula la complejidad del algoritmo por fuerza bruta"
      ]
    },
    {
      "cell_type": "markdown",
      "metadata": {
        "id": "9eUd3xwckP68"
      },
      "source": [
        "Respuesta"
      ]
    },
    {
      "cell_type": "code",
      "metadata": {
        "id": "rvZWwL-ckRST"
      },
      "source": [
        "# En nuestro algoritmo, tenemos una complejidad de O(n^2)"
      ],
      "execution_count": null,
      "outputs": []
    },
    {
      "cell_type": "markdown",
      "metadata": {
        "id": "txbrmLmskReM"
      },
      "source": [
        "(*)Diseña un algoritmo que mejore la complejidad del algortimo por fuerza bruta. Argumenta porque crees que mejora el algoritmo por fuerza bruta"
      ]
    },
    {
      "cell_type": "markdown",
      "metadata": {
        "id": "hLrVwt5QkZPD"
      },
      "source": [
        "Respuesta"
      ]
    },
    {
      "cell_type": "code",
      "metadata": {
        "id": "m1eyM21Vkabg",
        "colab": {
          "base_uri": "https://localhost:8080/",
          "height": 35
        },
        "outputId": "9788589d-ca06-47fe-f2e9-c0dea3ce2cf8"
      },
      "source": [
        "######### OPCIÓN 1: SOLO SE MEJORA EL NÚMERO DE OPERACIONES A REALIZAR, LA COMPLEJIDAD ES LA MISMA\n",
        "def problema3_mejorado(num):\n",
        "  from itertools import permutations\n",
        "  posiblesoperaciones=permutations(['*','/','+','-'],4)\n",
        "  nums=[1,2,3,4,5,6,7,8,9]\n",
        "  permutaciones=list(permutations(nums,5))\n",
        "  permutaciones1=[]\n",
        "  operacion1=[]\n",
        "  for n in posiblesoperaciones:\n",
        "     operacion1.append(list(n))\n",
        "  for k in permutaciones:\n",
        "    permutaciones1.append(list(k))\n",
        "  for i in permutaciones1:\n",
        "    for o in operacion1:\n",
        "        formula=eval(f'{i[0]}{o[0]}{i[1]}{o[1]}{i[2]}')\n",
        "        if o[0] in ('*','/') and o[1] in ('*','/') and formula==float:\n",
        "            break\n",
        "        else:\n",
        "            formula1=eval(f'{formula}{o[2]}{i[3]}{o[3]}{i[4]}')\n",
        "            if formula1==num:\n",
        "                return('La operación a realizar es:'+str(i[0])+o[0]+str(i[1])+o[1]+str(i[2])+o[2]+str(i[3])+o[3]+str(i[4])+'='+str(formula1))\n",
        "problema3_mejorado(55)\n",
        "\n",
        "# En este problema hemos mejorado el inicial de fuerza bruta en cuanto a que hemos reducido el número de operaciones a realizar.\n",
        "# Esto ocurre gracias a la heurística introducida en la condicion  if o[0] in ('*','/') and o[1] in ('*','/') and formula==float:\n",
        "# En esta condición estamos diciendo que en todas aquellas posibilidades en las que una vez realizada la multiplicación o división nos quede \n",
        "# un número decimal termine el bucle, puesto que nosotros sabemos que una vez realizadas dichas operaciones solo faltaría por realizar\n",
        "# una suma y una resta, en las que no podemos eliminar esos decimales obtenidos, por lo que sabríamos con antelación que no es recomendable\n",
        "# seguir explorando dicha solución.\n",
        "\n",
        "\n"
      ],
      "execution_count": 4,
      "outputs": [
        {
          "output_type": "execute_result",
          "data": {
            "application/vnd.google.colaboratory.intrinsic+json": {
              "type": "string"
            },
            "text/plain": [
              "'La operación a realizar es:1/2+7*8-5=55.0'"
            ]
          },
          "metadata": {},
          "execution_count": 4
        }
      ]
    },
    {
      "cell_type": "code",
      "source": [
        "############### OPCIÓN 2: SE MEJORA LA COMPLEJIDAD\n",
        "def problema3_mejorado_opcion2(num):\n",
        "  from itertools import permutations\n",
        "  o=['*','/','+','-']\n",
        "  nums=[1,2,3,4,5,6,7,8,9]\n",
        "  permutaciones=list(permutations(nums,5))\n",
        "  permutaciones1=[]\n",
        "  for k in permutaciones:\n",
        "    permutaciones1.append(list(k))\n",
        "  for i in permutaciones1:\n",
        "      formula=eval(f'{i[0]}{o[0]}{i[1]}{o[1]}{i[2]}')\n",
        "      if formula==float:\n",
        "         break\n",
        "      else:\n",
        "        formula1=eval(f'{formula}{o[2]}{i[3]}{o[3]}{i[4]}')\n",
        "        if formula1==num:\n",
        "            return('La operación a realizar es:'+str(i[0])+o[0]+str(i[1])+o[1]+str(i[2])+o[2]+str(i[3])+o[3]+str(i[4])+'='+str(formula1))\n",
        "\n",
        "problema3_mejorado_opcion2(50)\n",
        "\n",
        "# Pese a reducir la complejidad, también reduce el número de posibles soluciones, puesto que al mantener siempre el mismo orden de operaciones \n",
        "# el valor máximo al que optamos seguiría siendo 77 mientras que el mínimo se reduciría a -7."
      ],
      "metadata": {
        "colab": {
          "base_uri": "https://localhost:8080/",
          "height": 35
        },
        "id": "B8GWksh6Qxux",
        "outputId": "7124c7d7-61bc-4744-8f05-7a6906fcc6bf"
      },
      "execution_count": 6,
      "outputs": [
        {
          "output_type": "execute_result",
          "data": {
            "application/vnd.google.colaboratory.intrinsic+json": {
              "type": "string"
            },
            "text/plain": [
              "'La operación a realizar es:5*9/1+7-2=50.0'"
            ]
          },
          "metadata": {},
          "execution_count": 6
        }
      ]
    },
    {
      "cell_type": "markdown",
      "metadata": {
        "id": "eGDB4K6uk1iN"
      },
      "source": [
        "(*)Calcula la complejidad del algoritmo "
      ]
    },
    {
      "cell_type": "markdown",
      "metadata": {
        "id": "NhpTh_BPk1ms"
      },
      "source": [
        "Respuesta"
      ]
    },
    {
      "cell_type": "code",
      "metadata": {
        "id": "nREzhkStlCq8"
      },
      "source": [
        "# OPCIÓN 1: La complejidad de este algoritmo sigue siendo o(n^2)\n",
        "# OPCIÓN 2: La complejidad de este algoritmo sería o(n)"
      ],
      "execution_count": null,
      "outputs": []
    },
    {
      "cell_type": "markdown",
      "metadata": {
        "id": "3M6QjTsSkmYe"
      },
      "source": [
        "Según el problema (y tenga sentido), diseña un juego de datos de entrada aleatorios"
      ]
    },
    {
      "cell_type": "markdown",
      "metadata": {
        "id": "Jc3_OlyNkvjZ"
      },
      "source": [
        "Respuesta"
      ]
    },
    {
      "cell_type": "code",
      "metadata": {
        "id": "sJ-N2etjkyWc"
      },
      "source": [
        ""
      ],
      "execution_count": null,
      "outputs": []
    },
    {
      "cell_type": "markdown",
      "metadata": {
        "id": "zy5ZROmjlGo1"
      },
      "source": [
        "Aplica el algoritmo al juego de datos generado"
      ]
    },
    {
      "cell_type": "markdown",
      "metadata": {
        "id": "_Cmj-PVylMsa"
      },
      "source": [
        "Respuesta"
      ]
    },
    {
      "cell_type": "code",
      "metadata": {
        "id": "Jkx8GeiYlUz1"
      },
      "source": [
        ""
      ],
      "execution_count": null,
      "outputs": []
    },
    {
      "cell_type": "markdown",
      "metadata": {
        "id": "eTFWUJQrtGcv"
      },
      "source": [
        "Enumera las referencias que has utilizado(si ha sido necesario) para llevar a cabo el trabajo"
      ]
    },
    {
      "cell_type": "markdown",
      "metadata": {
        "id": "YKQ_mRBttWsP"
      },
      "source": [
        "Respuesta"
      ]
    },
    {
      "cell_type": "markdown",
      "metadata": {
        "id": "kAkDPUyRtYyH"
      },
      "source": [
        "Describe brevemente las lineas de como crees que es posible avanzar en el estudio del problema. Ten en cuenta incluso posibles variaciones del problema y/o variaciones al alza del tamaño"
      ]
    },
    {
      "cell_type": "markdown",
      "metadata": {
        "id": "IE0uZmo-tZu-"
      },
      "source": [
        "Respuesta"
      ]
    }
  ]
}